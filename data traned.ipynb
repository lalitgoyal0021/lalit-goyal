{
 "cells": [
  {
   "cell_type": "code",
   "execution_count": 1,
   "id": "2364e890",
   "metadata": {},
   "outputs": [
    {
     "name": "stdout",
     "output_type": "stream",
     "text": [
      "hello world\n"
     ]
    }
   ],
   "source": [
    "print('hello world')\n",
    "# print is a function is python\n",
    "# parentheses are round brackets\n",
    "# \"\" ''"
   ]
  },
  {
   "cell_type": "code",
   "execution_count": 2,
   "id": "97009740",
   "metadata": {},
   "outputs": [
    {
     "name": "stdout",
     "output_type": "stream",
     "text": [
      "10\n",
      "20\n",
      "Lalit\n"
     ]
    }
   ],
   "source": [
    "# is a comment in python\n",
    "# the following code will print the value of variable in python\n",
    "# x=10 y=20\n",
    "# x= \"Lalit\"\n",
    "\n",
    "x=10\n",
    "y=20\n",
    "myName='Lalit'\n",
    "\n",
    "print(x)\n",
    "print(y)\n",
    "print(myName)"
   ]
  },
  {
   "cell_type": "code",
   "execution_count": 3,
   "id": "37bd1f78",
   "metadata": {},
   "outputs": [
    {
     "name": "stdout",
     "output_type": "stream",
     "text": [
      "Lalit Goyal\n"
     ]
    }
   ],
   "source": [
    "firstName='Lalit'\n",
    "lastName='Goyal'\n",
    "\n",
    "print(firstName, lastName)"
   ]
  },
  {
   "cell_type": "code",
   "execution_count": 6,
   "id": "07d1708a",
   "metadata": {},
   "outputs": [
    {
     "name": "stdout",
     "output_type": "stream",
     "text": [
      "LalitGoyal\n"
     ]
    }
   ],
   "source": [
    "print(firstName + lastName)"
   ]
  },
  {
   "cell_type": "code",
   "execution_count": 7,
   "id": "1fc13d59",
   "metadata": {},
   "outputs": [
    {
     "name": "stdout",
     "output_type": "stream",
     "text": [
      "110\n"
     ]
    }
   ],
   "source": [
    "a=50\n",
    "b=60\n",
    "\n",
    "# The sum of a and b is 110\n",
    "\n",
    "print(a+b)"
   ]
  },
  {
   "cell_type": "code",
   "execution_count": 9,
   "id": "3d128aca",
   "metadata": {},
   "outputs": [
    {
     "name": "stdout",
     "output_type": "stream",
     "text": [
      "The sum of a and b is  110\n"
     ]
    }
   ],
   "source": [
    "print(\"The sum of a and b is \", a+b)"
   ]
  },
  {
   "cell_type": "code",
   "execution_count": null,
   "id": "e1d70042",
   "metadata": {},
   "outputs": [],
   "source": []
  }
 ],
 "metadata": {
  "kernelspec": {
   "display_name": "Python 3 (ipykernel)",
   "language": "python",
   "name": "python3"
  },
  "language_info": {
   "codemirror_mode": {
    "name": "ipython",
    "version": 3
   },
   "file_extension": ".py",
   "mimetype": "text/x-python",
   "name": "python",
   "nbconvert_exporter": "python",
   "pygments_lexer": "ipython3",
   "version": "3.9.12"
  }
 },
 "nbformat": 4,
 "nbformat_minor": 5
}
